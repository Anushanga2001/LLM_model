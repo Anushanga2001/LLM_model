{
  "nbformat": 4,
  "nbformat_minor": 0,
  "metadata": {
    "colab": {
      "provenance": [],
      "name": "RNN.ipynb",
      "authorship_tag": "ABX9TyMdtXBq+zAn1rErRfeaggCk",
      "include_colab_link": true
    },
    "kernelspec": {
      "name": "python3",
      "display_name": "Python 3"
    },
    "language_info": {
      "name": "python"
    }
  },
  "cells": [
    {
      "cell_type": "markdown",
      "metadata": {
        "id": "view-in-github",
        "colab_type": "text"
      },
      "source": [
        "<a href=\"https://colab.research.google.com/github/Anushanga2001/LLM_model/blob/model/RNN.ipynb\" target=\"_parent\"><img src=\"https://colab.research.google.com/assets/colab-badge.svg\" alt=\"Open In Colab\"/></a>"
      ]
    },
    {
      "cell_type": "markdown",
      "source": [
        "# **Next word predictions according to the RNN**"
      ],
      "metadata": {
        "id": "LJ4auIL8Y15X"
      }
    },
    {
      "cell_type": "code",
      "execution_count": null,
      "metadata": {
        "id": "rjtCM5GkYiUO"
      },
      "outputs": [],
      "source": [
        "import numpy as np\n",
        "import pandas as pd\n",
        "import tensorflow as tf\n",
        "# When doing the word predictions , we have to use indexing for do predictions\n",
        "# And also need to identify the size of the array"
      ]
    },
    {
      "cell_type": "code",
      "source": [
        "from os import read\n",
        "with open(\"/content/Cricket is a popular sport with a l.txt\", 'r', encoding='utf-8') as f:\n",
        "  text = f.read()"
      ],
      "metadata": {
        "id": "Yguc5bhycc1Y"
      },
      "execution_count": null,
      "outputs": []
    },
    {
      "cell_type": "code",
      "source": [
        "text\n",
        "# get the result of text"
      ],
      "metadata": {
        "collapsed": true,
        "colab": {
          "base_uri": "https://localhost:8080/",
          "height": 730
        },
        "id": "0xYiUY9ldTNo",
        "outputId": "ff5b0ea7-c625-4ae6-dbab-e5933bcfffed"
      },
      "execution_count": null,
      "outputs": [
        {
          "output_type": "execute_result",
          "data": {
            "text/plain": [
              "'### Cricket: A Brief Overview\\n\\nCricket is a bat-and-ball game that has captivated millions of fans worldwide. Originating in England during the 16th century, it has evolved into a global sport with a rich history and diverse forms of play. Here’s an exploration of the game, its structure, and its cultural significance.\\n\\n#### **The Game Structure**\\n\\nCricket is typically played between two teams of eleven players each. The game can be divided into several formats, with the most popular being:\\n\\n1. **Test Cricket:** The longest format, lasting up to five days, where each team plays two innings. Test cricket is known for its strategic depth and endurance.\\n2. **One Day Internationals (ODIs):** Limited to 50 overs per side, ODIs are faster-paced than Test matches and usually completed in a single day.\\n3. **Twenty20 (T20) Cricket:** The shortest format, with each team playing 20 overs. T20 cricket is known for its explosive action and has significantly boosted the sport\\'s popularity.\\n\\n#### **Basic Rules**\\n\\n- **Batting and Bowling:** The game revolves around the interaction between the bowler (who delivers the ball) and the batsman (who attempts to score runs by hitting the ball). \\n- **Fielding:** The fielding team aims to prevent the batting team from scoring runs and to dismiss the batsmen.\\n- **Scoring Runs:** Runs can be scored by hitting the ball and running between the wickets, or by hitting boundaries (four runs if the ball hits the ground before reaching the boundary, six runs if it crosses the boundary on the full).\\n- **Dismissals:** Batsmen can be dismissed in various ways, including being bowled, caught, run out, or leg before wicket (LBW).\\n\\n#### **Cultural Significance**\\n\\nCricket is more than just a sport; it is a cultural phenomenon in many countries, particularly in England, Australia, India, Pakistan, South Africa, and the West Indies. The sport unites people across diverse backgrounds and often serves as a platform for social and political expression.\\n\\n- **India:** Cricket is almost a religion in India, with millions of passionate fans and a thriving domestic league (the Indian Premier League, or IPL) that attracts top players from around the world.\\n- **England and Australia:** These countries have a historic rivalry known as \"The Ashes,\" a series of Test matches that dates back to 1882.\\n- **West Indies:** Known for producing some of the most exciting and charismatic players, the West Indies have a rich cricketing heritage and a unique style of play.\\n\\n#### **Impact and Evolution**\\n\\nCricket has continually evolved, with innovations such as the introduction of day-night Test matches, the use of technology for decision-making (like the Decision Review System, or DRS), and the development of new formats like T20. These changes have helped the game adapt to modern times and expand its global reach.\\n\\n### Conclusion\\n\\nCricket\\'s blend of strategy, skill, and tradition makes it a unique and enduring sport. Its ability to bring people together and create unforgettable moments continues to fuel its global appeal. Whether it\\'s the patience and tactics of Test cricket, the balance of ODIs, or the excitement of T20, cricket offers something for every sports enthusiast.'"
            ],
            "application/vnd.google.colaboratory.intrinsic+json": {
              "type": "string"
            }
          },
          "metadata": {},
          "execution_count": 7
        }
      ]
    },
    {
      "cell_type": "code",
      "source": [
        "filter = '!\"#$%&()*+,-./:;<=>?@[\\\\]^_`{|}~\\t\\n'\n",
        "# if want to get the indexes for the '\\n' kind of words, that time have\n",
        "# to use the filter option"
      ],
      "metadata": {
        "id": "zeGygYwAee6b"
      },
      "execution_count": null,
      "outputs": []
    },
    {
      "cell_type": "code",
      "source": [
        "tokenizer = tf.keras.preprocessing.text.Tokenizer()"
      ],
      "metadata": {
        "id": "5Bi5Wk9_dbwy"
      },
      "execution_count": null,
      "outputs": []
    },
    {
      "cell_type": "code",
      "source": [
        "tokenizer.fit_on_texts([text])"
      ],
      "metadata": {
        "id": "CJkW5wFJd2qH"
      },
      "execution_count": null,
      "outputs": []
    },
    {
      "cell_type": "code",
      "source": [
        "tokenizer.get_config()\n",
        "# get index for each and every word"
      ],
      "metadata": {
        "collapsed": true,
        "colab": {
          "base_uri": "https://localhost:8080/"
        },
        "id": "DV4lCLOid6B3",
        "outputId": "c32607d4-2e53-457e-d5c9-96e68dfd7101"
      },
      "execution_count": null,
      "outputs": [
        {
          "output_type": "execute_result",
          "data": {
            "text/plain": [
              "{'num_words': None,\n",
              " 'filters': '!\"#$%&()*+,-./:;<=>?@[\\\\]^_`{|}~\\t\\n',\n",
              " 'lower': True,\n",
              " 'split': ' ',\n",
              " 'char_level': False,\n",
              " 'oov_token': None,\n",
              " 'document_count': 1,\n",
              " 'word_counts': '{\"cricket\": 12, \"a\": 15, \"brief\": 1, \"overview\": 1, \"is\": 7, \"bat\": 1, \"and\": 24, \"ball\": 5, \"game\": 6, \"that\": 3, \"has\": 4, \"captivated\": 1, \"millions\": 2, \"of\": 15, \"fans\": 2, \"worldwide\": 1, \"originating\": 1, \"in\": 6, \"england\": 3, \"during\": 1, \"the\": 39, \"16th\": 1, \"century\": 1, \"it\": 4, \"evolved\": 2, \"into\": 2, \"global\": 3, \"sport\": 4, \"with\": 5, \"rich\": 2, \"history\": 1, \"diverse\": 2, \"forms\": 1, \"play\": 2, \"here\\\\u2019s\": 1, \"an\": 1, \"exploration\": 1, \"its\": 7, \"structure\": 2, \"cultural\": 3, \"significance\": 2, \"typically\": 1, \"played\": 1, \"between\": 3, \"two\": 2, \"teams\": 1, \"eleven\": 1, \"players\": 3, \"each\": 3, \"can\": 3, \"be\": 3, \"divided\": 1, \"several\": 1, \"formats\": 2, \"most\": 2, \"popular\": 1, \"being\": 2, \"1\": 1, \"test\": 6, \"longest\": 1, \"format\": 2, \"lasting\": 1, \"up\": 1, \"to\": 9, \"five\": 1, \"days\": 1, \"where\": 1, \"team\": 4, \"plays\": 1, \"innings\": 1, \"known\": 4, \"for\": 6, \"strategic\": 1, \"depth\": 1, \"endurance\": 1, \"2\": 1, \"one\": 1, \"day\": 3, \"internationals\": 1, \"odis\": 3, \"limited\": 1, \"50\": 1, \"overs\": 2, \"per\": 1, \"side\": 1, \"are\": 1, \"faster\": 1, \"paced\": 1, \"than\": 2, \"matches\": 3, \"usually\": 1, \"completed\": 1, \"single\": 1, \"3\": 1, \"twenty20\": 1, \"t20\": 4, \"shortest\": 1, \"playing\": 1, \"20\": 1, \"explosive\": 1, \"action\": 1, \"significantly\": 1, \"boosted\": 1, \"sport\\'s\": 1, \"popularity\": 1, \"basic\": 1, \"rules\": 1, \"batting\": 2, \"bowling\": 1, \"revolves\": 1, \"around\": 2, \"interaction\": 1, \"bowler\": 1, \"who\": 2, \"delivers\": 1, \"batsman\": 1, \"attempts\": 1, \"score\": 1, \"runs\": 6, \"by\": 3, \"hitting\": 3, \"fielding\": 2, \"aims\": 1, \"prevent\": 1, \"from\": 2, \"scoring\": 2, \"dismiss\": 1, \"batsmen\": 2, \"scored\": 1, \"running\": 1, \"wickets\": 1, \"or\": 5, \"boundaries\": 1, \"four\": 1, \"if\": 2, \"hits\": 1, \"ground\": 1, \"before\": 2, \"reaching\": 1, \"boundary\": 2, \"six\": 1, \"crosses\": 1, \"on\": 1, \"full\": 1, \"dismissals\": 1, \"dismissed\": 1, \"various\": 1, \"ways\": 1, \"including\": 1, \"bowled\": 1, \"caught\": 1, \"run\": 1, \"out\": 1, \"leg\": 1, \"wicket\": 1, \"lbw\": 1, \"more\": 1, \"just\": 1, \"phenomenon\": 1, \"many\": 1, \"countries\": 2, \"particularly\": 1, \"australia\": 2, \"india\": 3, \"pakistan\": 1, \"south\": 1, \"africa\": 1, \"west\": 3, \"indies\": 3, \"unites\": 1, \"people\": 2, \"across\": 1, \"backgrounds\": 1, \"often\": 1, \"serves\": 1, \"as\": 3, \"platform\": 1, \"social\": 1, \"political\": 1, \"expression\": 1, \"almost\": 1, \"religion\": 1, \"passionate\": 1, \"thriving\": 1, \"domestic\": 1, \"league\": 2, \"indian\": 1, \"premier\": 1, \"ipl\": 1, \"attracts\": 1, \"top\": 1, \"world\": 1, \"these\": 2, \"have\": 3, \"historic\": 1, \"rivalry\": 1, \"ashes\": 1, \"series\": 1, \"dates\": 1, \"back\": 1, \"1882\": 1, \"producing\": 1, \"some\": 1, \"exciting\": 1, \"charismatic\": 1, \"cricketing\": 1, \"heritage\": 1, \"unique\": 2, \"style\": 1, \"impact\": 1, \"evolution\": 1, \"continually\": 1, \"innovations\": 1, \"such\": 1, \"introduction\": 1, \"night\": 1, \"use\": 1, \"technology\": 1, \"decision\": 2, \"making\": 1, \"like\": 2, \"review\": 1, \"system\": 1, \"drs\": 1, \"development\": 1, \"new\": 1, \"changes\": 1, \"helped\": 1, \"adapt\": 1, \"modern\": 1, \"times\": 1, \"expand\": 1, \"reach\": 1, \"conclusion\": 1, \"cricket\\'s\": 1, \"blend\": 1, \"strategy\": 1, \"skill\": 1, \"tradition\": 1, \"makes\": 1, \"enduring\": 1, \"ability\": 1, \"bring\": 1, \"together\": 1, \"create\": 1, \"unforgettable\": 1, \"moments\": 1, \"continues\": 1, \"fuel\": 1, \"appeal\": 1, \"whether\": 1, \"it\\'s\": 1, \"patience\": 1, \"tactics\": 1, \"balance\": 1, \"excitement\": 1, \"offers\": 1, \"something\": 1, \"every\": 1, \"sports\": 1, \"enthusiast\": 1}',\n",
              " 'word_docs': '{\"rich\": 1, \"attempts\": 1, \"lbw\": 1, \"passionate\": 1, \"significantly\": 1, \"several\": 1, \"popularity\": 1, \"batsman\": 1, \"where\": 1, \"just\": 1, \"interaction\": 1, \"revolves\": 1, \"development\": 1, \"ability\": 1, \"overs\": 1, \"hits\": 1, \"continually\": 1, \"countries\": 1, \"helped\": 1, \"delivers\": 1, \"makes\": 1, \"boundaries\": 1, \"new\": 1, \"england\": 1, \"create\": 1, \"ground\": 1, \"cricketing\": 1, \"dismiss\": 1, \"pakistan\": 1, \"like\": 1, \"if\": 1, \"aims\": 1, \"by\": 1, \"captivated\": 1, \"structure\": 1, \"1\": 1, \"including\": 1, \"to\": 1, \"are\": 1, \"faster\": 1, \"is\": 1, \"four\": 1, \"sports\": 1, \"known\": 1, \"charismatic\": 1, \"india\": 1, \"unforgettable\": 1, \"lasting\": 1, \"unique\": 1, \"every\": 1, \"drs\": 1, \"originating\": 1, \"per\": 1, \"almost\": 1, \"these\": 1, \"decision\": 1, \"twenty20\": 1, \"it\": 1, \"producing\": 1, \"evolved\": 1, \"continues\": 1, \"one\": 1, \"sport\": 1, \"people\": 1, \"or\": 1, \"playing\": 1, \"depth\": 1, \"players\": 1, \"runs\": 1, \"worldwide\": 1, \"here\\\\u2019s\": 1, \"can\": 1, \"boundary\": 1, \"ways\": 1, \"play\": 1, \"out\": 1, \"more\": 1, \"south\": 1, \"top\": 1, \"16th\": 1, \"two\": 1, \"expression\": 1, \"who\": 1, \"many\": 1, \"days\": 1, \"skill\": 1, \"often\": 1, \"review\": 1, \"most\": 1, \"boosted\": 1, \"modern\": 1, \"innings\": 1, \"use\": 1, \"adapt\": 1, \"appeal\": 1, \"2\": 1, \"that\": 1, \"up\": 1, \"six\": 1, \"history\": 1, \"played\": 1, \"something\": 1, \"has\": 1, \"cricket\\'s\": 1, \"political\": 1, \"a\": 1, \"fans\": 1, \"reach\": 1, \"into\": 1, \"bowling\": 1, \"the\": 1, \"strategic\": 1, \"bowled\": 1, \"have\": 1, \"bowler\": 1, \"running\": 1, \"times\": 1, \"odis\": 1, \"enthusiast\": 1, \"thriving\": 1, \"world\": 1, \"blend\": 1, \"divided\": 1, \"scored\": 1, \"an\": 1, \"and\": 1, \"dismissed\": 1, \"single\": 1, \"full\": 1, \"serves\": 1, \"ashes\": 1, \"paced\": 1, \"wickets\": 1, \"exploration\": 1, \"balance\": 1, \"tactics\": 1, \"making\": 1, \"caught\": 1, \"formats\": 1, \"bat\": 1, \"millions\": 1, \"five\": 1, \"shortest\": 1, \"various\": 1, \"backgrounds\": 1, \"format\": 1, \"excitement\": 1, \"teams\": 1, \"popular\": 1, \"fielding\": 1, \"typically\": 1, \"team\": 1, \"impact\": 1, \"premier\": 1, \"offers\": 1, \"cultural\": 1, \"introduction\": 1, \"20\": 1, \"west\": 1, \"t20\": 1, \"changes\": 1, \"leg\": 1, \"series\": 1, \"action\": 1, \"dates\": 1, \"evolution\": 1, \"during\": 1, \"around\": 1, \"forms\": 1, \"patience\": 1, \"ball\": 1, \"limited\": 1, \"africa\": 1, \"significance\": 1, \"particularly\": 1, \"cricket\": 1, \"brief\": 1, \"batsmen\": 1, \"attracts\": 1, \"technology\": 1, \"between\": 1, \"3\": 1, \"eleven\": 1, \"matches\": 1, \"scoring\": 1, \"from\": 1, \"league\": 1, \"ipl\": 1, \"style\": 1, \"heritage\": 1, \"reaching\": 1, \"test\": 1, \"exciting\": 1, \"religion\": 1, \"strategy\": 1, \"with\": 1, \"1882\": 1, \"batting\": 1, \"together\": 1, \"expand\": 1, \"crosses\": 1, \"basic\": 1, \"platform\": 1, \"dismissals\": 1, \"prevent\": 1, \"historic\": 1, \"back\": 1, \"wicket\": 1, \"usually\": 1, \"its\": 1, \"hitting\": 1, \"game\": 1, \"on\": 1, \"social\": 1, \"sport\\'s\": 1, \"side\": 1, \"be\": 1, \"such\": 1, \"overview\": 1, \"global\": 1, \"night\": 1, \"across\": 1, \"moments\": 1, \"tradition\": 1, \"bring\": 1, \"whether\": 1, \"as\": 1, \"diverse\": 1, \"score\": 1, \"domestic\": 1, \"plays\": 1, \"phenomenon\": 1, \"before\": 1, \"each\": 1, \"being\": 1, \"endurance\": 1, \"explosive\": 1, \"fuel\": 1, \"century\": 1, \"day\": 1, \"of\": 1, \"than\": 1, \"50\": 1, \"system\": 1, \"completed\": 1, \"indian\": 1, \"australia\": 1, \"longest\": 1, \"internationals\": 1, \"enduring\": 1, \"unites\": 1, \"run\": 1, \"conclusion\": 1, \"in\": 1, \"it\\'s\": 1, \"indies\": 1, \"innovations\": 1, \"rivalry\": 1, \"some\": 1, \"rules\": 1, \"for\": 1}',\n",
              " 'index_docs': '{\"46\": 1, \"141\": 1, \"169\": 1, \"189\": 1, \"129\": 1, \"95\": 1, \"132\": 1, \"140\": 1, \"103\": 1, \"171\": 1, \"137\": 1, \"136\": 1, \"225\": 1, \"242\": 1, \"56\": 1, \"151\": 1, \"214\": 1, \"68\": 1, \"228\": 1, \"139\": 1, \"240\": 1, \"149\": 1, \"226\": 1, \"24\": 1, \"245\": 1, \"152\": 1, \"209\": 1, \"145\": 1, \"175\": 1, \"75\": 1, \"65\": 1, \"143\": 1, \"35\": 1, \"79\": 1, \"49\": 1, \"97\": 1, \"162\": 1, \"6\": 1, \"116\": 1, \"117\": 1, \"7\": 1, \"150\": 1, \"260\": 1, \"21\": 1, \"208\": 1, \"37\": 1, \"246\": 1, \"99\": 1, \"73\": 1, \"259\": 1, \"224\": 1, \"81\": 1, \"114\": 1, \"187\": 1, \"72\": 1, \"74\": 1, \"123\": 1, \"18\": 1, \"205\": 1, \"44\": 1, \"248\": 1, \"110\": 1, \"19\": 1, \"70\": 1, \"16\": 1, \"125\": 1, \"107\": 1, \"28\": 1, \"13\": 1, \"80\": 1, \"87\": 1, \"30\": 1, \"67\": 1, \"161\": 1, \"48\": 1, \"166\": 1, \"170\": 1, \"176\": 1, \"196\": 1, \"83\": 1, \"51\": 1, \"186\": 1, \"60\": 1, \"173\": 1, \"102\": 1, \"238\": 1, \"181\": 1, \"222\": 1, \"53\": 1, \"130\": 1, \"230\": 1, \"105\": 1, \"219\": 1, \"229\": 1, \"250\": 1, \"109\": 1, \"23\": 1, \"100\": 1, \"154\": 1, \"85\": 1, \"91\": 1, \"258\": 1, \"17\": 1, \"235\": 1, \"185\": 1, \"3\": 1, \"43\": 1, \"233\": 1, \"45\": 1, \"135\": 1, \"1\": 1, \"106\": 1, \"163\": 1, \"41\": 1, \"138\": 1, \"147\": 1, \"231\": 1, \"33\": 1, \"261\": 1, \"190\": 1, \"197\": 1, \"236\": 1, \"94\": 1, \"146\": 1, \"88\": 1, \"2\": 1, \"159\": 1, \"121\": 1, \"157\": 1, \"182\": 1, \"200\": 1, \"118\": 1, \"148\": 1, \"89\": 1, \"255\": 1, \"254\": 1, \"221\": 1, \"164\": 1, \"52\": 1, \"78\": 1, \"42\": 1, \"101\": 1, \"124\": 1, \"160\": 1, \"180\": 1, \"55\": 1, \"256\": 1, \"92\": 1, \"96\": 1, \"61\": 1, \"90\": 1, \"20\": 1, \"212\": 1, \"193\": 1, \"257\": 1, \"26\": 1, \"217\": 1, \"126\": 1, \"38\": 1, \"22\": 1, \"227\": 1, \"167\": 1, \"201\": 1, \"128\": 1, \"202\": 1, \"213\": 1, \"82\": 1, \"59\": 1, \"86\": 1, \"253\": 1, \"14\": 1, \"112\": 1, \"177\": 1, \"50\": 1, \"174\": 1, \"5\": 1, \"76\": 1, \"64\": 1, \"195\": 1, \"220\": 1, \"27\": 1, \"122\": 1, \"93\": 1, \"34\": 1, \"63\": 1, \"62\": 1, \"71\": 1, \"194\": 1, \"211\": 1, \"210\": 1, \"153\": 1, \"11\": 1, \"207\": 1, \"188\": 1, \"237\": 1, \"15\": 1, \"204\": 1, \"58\": 1, \"244\": 1, \"232\": 1, \"155\": 1, \"133\": 1, \"183\": 1, \"158\": 1, \"144\": 1, \"198\": 1, \"203\": 1, \"168\": 1, \"119\": 1, \"8\": 1, \"36\": 1, \"9\": 1, \"156\": 1, \"184\": 1, \"131\": 1, \"115\": 1, \"31\": 1, \"216\": 1, \"77\": 1, \"25\": 1, \"218\": 1, \"179\": 1, \"247\": 1, \"239\": 1, \"243\": 1, \"251\": 1, \"40\": 1, \"47\": 1, \"142\": 1, \"191\": 1, \"104\": 1, \"172\": 1, \"66\": 1, \"29\": 1, \"54\": 1, \"108\": 1, \"127\": 1, \"249\": 1, \"84\": 1, \"32\": 1, \"4\": 1, \"57\": 1, \"113\": 1, \"223\": 1, \"120\": 1, \"192\": 1, \"69\": 1, \"98\": 1, \"111\": 1, \"241\": 1, \"178\": 1, \"165\": 1, \"234\": 1, \"10\": 1, \"252\": 1, \"39\": 1, \"215\": 1, \"199\": 1, \"206\": 1, \"134\": 1, \"12\": 1}',\n",
              " 'index_word': '{\"1\": \"the\", \"2\": \"and\", \"3\": \"a\", \"4\": \"of\", \"5\": \"cricket\", \"6\": \"to\", \"7\": \"is\", \"8\": \"its\", \"9\": \"game\", \"10\": \"in\", \"11\": \"test\", \"12\": \"for\", \"13\": \"runs\", \"14\": \"ball\", \"15\": \"with\", \"16\": \"or\", \"17\": \"has\", \"18\": \"it\", \"19\": \"sport\", \"20\": \"team\", \"21\": \"known\", \"22\": \"t20\", \"23\": \"that\", \"24\": \"england\", \"25\": \"global\", \"26\": \"cultural\", \"27\": \"between\", \"28\": \"players\", \"29\": \"each\", \"30\": \"can\", \"31\": \"be\", \"32\": \"day\", \"33\": \"odis\", \"34\": \"matches\", \"35\": \"by\", \"36\": \"hitting\", \"37\": \"india\", \"38\": \"west\", \"39\": \"indies\", \"40\": \"as\", \"41\": \"have\", \"42\": \"millions\", \"43\": \"fans\", \"44\": \"evolved\", \"45\": \"into\", \"46\": \"rich\", \"47\": \"diverse\", \"48\": \"play\", \"49\": \"structure\", \"50\": \"significance\", \"51\": \"two\", \"52\": \"formats\", \"53\": \"most\", \"54\": \"being\", \"55\": \"format\", \"56\": \"overs\", \"57\": \"than\", \"58\": \"batting\", \"59\": \"around\", \"60\": \"who\", \"61\": \"fielding\", \"62\": \"from\", \"63\": \"scoring\", \"64\": \"batsmen\", \"65\": \"if\", \"66\": \"before\", \"67\": \"boundary\", \"68\": \"countries\", \"69\": \"australia\", \"70\": \"people\", \"71\": \"league\", \"72\": \"these\", \"73\": \"unique\", \"74\": \"decision\", \"75\": \"like\", \"76\": \"brief\", \"77\": \"overview\", \"78\": \"bat\", \"79\": \"captivated\", \"80\": \"worldwide\", \"81\": \"originating\", \"82\": \"during\", \"83\": \"16th\", \"84\": \"century\", \"85\": \"history\", \"86\": \"forms\", \"87\": \"here\\\\u2019s\", \"88\": \"an\", \"89\": \"exploration\", \"90\": \"typically\", \"91\": \"played\", \"92\": \"teams\", \"93\": \"eleven\", \"94\": \"divided\", \"95\": \"several\", \"96\": \"popular\", \"97\": \"1\", \"98\": \"longest\", \"99\": \"lasting\", \"100\": \"up\", \"101\": \"five\", \"102\": \"days\", \"103\": \"where\", \"104\": \"plays\", \"105\": \"innings\", \"106\": \"strategic\", \"107\": \"depth\", \"108\": \"endurance\", \"109\": \"2\", \"110\": \"one\", \"111\": \"internationals\", \"112\": \"limited\", \"113\": \"50\", \"114\": \"per\", \"115\": \"side\", \"116\": \"are\", \"117\": \"faster\", \"118\": \"paced\", \"119\": \"usually\", \"120\": \"completed\", \"121\": \"single\", \"122\": \"3\", \"123\": \"twenty20\", \"124\": \"shortest\", \"125\": \"playing\", \"126\": \"20\", \"127\": \"explosive\", \"128\": \"action\", \"129\": \"significantly\", \"130\": \"boosted\", \"131\": \"sport\\'s\", \"132\": \"popularity\", \"133\": \"basic\", \"134\": \"rules\", \"135\": \"bowling\", \"136\": \"revolves\", \"137\": \"interaction\", \"138\": \"bowler\", \"139\": \"delivers\", \"140\": \"batsman\", \"141\": \"attempts\", \"142\": \"score\", \"143\": \"aims\", \"144\": \"prevent\", \"145\": \"dismiss\", \"146\": \"scored\", \"147\": \"running\", \"148\": \"wickets\", \"149\": \"boundaries\", \"150\": \"four\", \"151\": \"hits\", \"152\": \"ground\", \"153\": \"reaching\", \"154\": \"six\", \"155\": \"crosses\", \"156\": \"on\", \"157\": \"full\", \"158\": \"dismissals\", \"159\": \"dismissed\", \"160\": \"various\", \"161\": \"ways\", \"162\": \"including\", \"163\": \"bowled\", \"164\": \"caught\", \"165\": \"run\", \"166\": \"out\", \"167\": \"leg\", \"168\": \"wicket\", \"169\": \"lbw\", \"170\": \"more\", \"171\": \"just\", \"172\": \"phenomenon\", \"173\": \"many\", \"174\": \"particularly\", \"175\": \"pakistan\", \"176\": \"south\", \"177\": \"africa\", \"178\": \"unites\", \"179\": \"across\", \"180\": \"backgrounds\", \"181\": \"often\", \"182\": \"serves\", \"183\": \"platform\", \"184\": \"social\", \"185\": \"political\", \"186\": \"expression\", \"187\": \"almost\", \"188\": \"religion\", \"189\": \"passionate\", \"190\": \"thriving\", \"191\": \"domestic\", \"192\": \"indian\", \"193\": \"premier\", \"194\": \"ipl\", \"195\": \"attracts\", \"196\": \"top\", \"197\": \"world\", \"198\": \"historic\", \"199\": \"rivalry\", \"200\": \"ashes\", \"201\": \"series\", \"202\": \"dates\", \"203\": \"back\", \"204\": \"1882\", \"205\": \"producing\", \"206\": \"some\", \"207\": \"exciting\", \"208\": \"charismatic\", \"209\": \"cricketing\", \"210\": \"heritage\", \"211\": \"style\", \"212\": \"impact\", \"213\": \"evolution\", \"214\": \"continually\", \"215\": \"innovations\", \"216\": \"such\", \"217\": \"introduction\", \"218\": \"night\", \"219\": \"use\", \"220\": \"technology\", \"221\": \"making\", \"222\": \"review\", \"223\": \"system\", \"224\": \"drs\", \"225\": \"development\", \"226\": \"new\", \"227\": \"changes\", \"228\": \"helped\", \"229\": \"adapt\", \"230\": \"modern\", \"231\": \"times\", \"232\": \"expand\", \"233\": \"reach\", \"234\": \"conclusion\", \"235\": \"cricket\\'s\", \"236\": \"blend\", \"237\": \"strategy\", \"238\": \"skill\", \"239\": \"tradition\", \"240\": \"makes\", \"241\": \"enduring\", \"242\": \"ability\", \"243\": \"bring\", \"244\": \"together\", \"245\": \"create\", \"246\": \"unforgettable\", \"247\": \"moments\", \"248\": \"continues\", \"249\": \"fuel\", \"250\": \"appeal\", \"251\": \"whether\", \"252\": \"it\\'s\", \"253\": \"patience\", \"254\": \"tactics\", \"255\": \"balance\", \"256\": \"excitement\", \"257\": \"offers\", \"258\": \"something\", \"259\": \"every\", \"260\": \"sports\", \"261\": \"enthusiast\"}',\n",
              " 'word_index': '{\"the\": 1, \"and\": 2, \"a\": 3, \"of\": 4, \"cricket\": 5, \"to\": 6, \"is\": 7, \"its\": 8, \"game\": 9, \"in\": 10, \"test\": 11, \"for\": 12, \"runs\": 13, \"ball\": 14, \"with\": 15, \"or\": 16, \"has\": 17, \"it\": 18, \"sport\": 19, \"team\": 20, \"known\": 21, \"t20\": 22, \"that\": 23, \"england\": 24, \"global\": 25, \"cultural\": 26, \"between\": 27, \"players\": 28, \"each\": 29, \"can\": 30, \"be\": 31, \"day\": 32, \"odis\": 33, \"matches\": 34, \"by\": 35, \"hitting\": 36, \"india\": 37, \"west\": 38, \"indies\": 39, \"as\": 40, \"have\": 41, \"millions\": 42, \"fans\": 43, \"evolved\": 44, \"into\": 45, \"rich\": 46, \"diverse\": 47, \"play\": 48, \"structure\": 49, \"significance\": 50, \"two\": 51, \"formats\": 52, \"most\": 53, \"being\": 54, \"format\": 55, \"overs\": 56, \"than\": 57, \"batting\": 58, \"around\": 59, \"who\": 60, \"fielding\": 61, \"from\": 62, \"scoring\": 63, \"batsmen\": 64, \"if\": 65, \"before\": 66, \"boundary\": 67, \"countries\": 68, \"australia\": 69, \"people\": 70, \"league\": 71, \"these\": 72, \"unique\": 73, \"decision\": 74, \"like\": 75, \"brief\": 76, \"overview\": 77, \"bat\": 78, \"captivated\": 79, \"worldwide\": 80, \"originating\": 81, \"during\": 82, \"16th\": 83, \"century\": 84, \"history\": 85, \"forms\": 86, \"here\\\\u2019s\": 87, \"an\": 88, \"exploration\": 89, \"typically\": 90, \"played\": 91, \"teams\": 92, \"eleven\": 93, \"divided\": 94, \"several\": 95, \"popular\": 96, \"1\": 97, \"longest\": 98, \"lasting\": 99, \"up\": 100, \"five\": 101, \"days\": 102, \"where\": 103, \"plays\": 104, \"innings\": 105, \"strategic\": 106, \"depth\": 107, \"endurance\": 108, \"2\": 109, \"one\": 110, \"internationals\": 111, \"limited\": 112, \"50\": 113, \"per\": 114, \"side\": 115, \"are\": 116, \"faster\": 117, \"paced\": 118, \"usually\": 119, \"completed\": 120, \"single\": 121, \"3\": 122, \"twenty20\": 123, \"shortest\": 124, \"playing\": 125, \"20\": 126, \"explosive\": 127, \"action\": 128, \"significantly\": 129, \"boosted\": 130, \"sport\\'s\": 131, \"popularity\": 132, \"basic\": 133, \"rules\": 134, \"bowling\": 135, \"revolves\": 136, \"interaction\": 137, \"bowler\": 138, \"delivers\": 139, \"batsman\": 140, \"attempts\": 141, \"score\": 142, \"aims\": 143, \"prevent\": 144, \"dismiss\": 145, \"scored\": 146, \"running\": 147, \"wickets\": 148, \"boundaries\": 149, \"four\": 150, \"hits\": 151, \"ground\": 152, \"reaching\": 153, \"six\": 154, \"crosses\": 155, \"on\": 156, \"full\": 157, \"dismissals\": 158, \"dismissed\": 159, \"various\": 160, \"ways\": 161, \"including\": 162, \"bowled\": 163, \"caught\": 164, \"run\": 165, \"out\": 166, \"leg\": 167, \"wicket\": 168, \"lbw\": 169, \"more\": 170, \"just\": 171, \"phenomenon\": 172, \"many\": 173, \"particularly\": 174, \"pakistan\": 175, \"south\": 176, \"africa\": 177, \"unites\": 178, \"across\": 179, \"backgrounds\": 180, \"often\": 181, \"serves\": 182, \"platform\": 183, \"social\": 184, \"political\": 185, \"expression\": 186, \"almost\": 187, \"religion\": 188, \"passionate\": 189, \"thriving\": 190, \"domestic\": 191, \"indian\": 192, \"premier\": 193, \"ipl\": 194, \"attracts\": 195, \"top\": 196, \"world\": 197, \"historic\": 198, \"rivalry\": 199, \"ashes\": 200, \"series\": 201, \"dates\": 202, \"back\": 203, \"1882\": 204, \"producing\": 205, \"some\": 206, \"exciting\": 207, \"charismatic\": 208, \"cricketing\": 209, \"heritage\": 210, \"style\": 211, \"impact\": 212, \"evolution\": 213, \"continually\": 214, \"innovations\": 215, \"such\": 216, \"introduction\": 217, \"night\": 218, \"use\": 219, \"technology\": 220, \"making\": 221, \"review\": 222, \"system\": 223, \"drs\": 224, \"development\": 225, \"new\": 226, \"changes\": 227, \"helped\": 228, \"adapt\": 229, \"modern\": 230, \"times\": 231, \"expand\": 232, \"reach\": 233, \"conclusion\": 234, \"cricket\\'s\": 235, \"blend\": 236, \"strategy\": 237, \"skill\": 238, \"tradition\": 239, \"makes\": 240, \"enduring\": 241, \"ability\": 242, \"bring\": 243, \"together\": 244, \"create\": 245, \"unforgettable\": 246, \"moments\": 247, \"continues\": 248, \"fuel\": 249, \"appeal\": 250, \"whether\": 251, \"it\\'s\": 252, \"patience\": 253, \"tactics\": 254, \"balance\": 255, \"excitement\": 256, \"offers\": 257, \"something\": 258, \"every\": 259, \"sports\": 260, \"enthusiast\": 261}'}"
            ]
          },
          "metadata": {},
          "execution_count": 18
        }
      ]
    },
    {
      "cell_type": "code",
      "source": [
        "tokenizer.index_word\n",
        "# word by word index"
      ],
      "metadata": {
        "collapsed": true,
        "colab": {
          "base_uri": "https://localhost:8080/"
        },
        "id": "6VoMtgwgeFqg",
        "outputId": "151ddeec-248b-49f7-f344-ba91fdb22ed5"
      },
      "execution_count": null,
      "outputs": [
        {
          "output_type": "execute_result",
          "data": {
            "text/plain": [
              "{1: 'the',\n",
              " 2: 'and',\n",
              " 3: 'a',\n",
              " 4: 'of',\n",
              " 5: 'cricket',\n",
              " 6: 'to',\n",
              " 7: 'is',\n",
              " 8: 'its',\n",
              " 9: 'game',\n",
              " 10: 'in',\n",
              " 11: 'test',\n",
              " 12: 'for',\n",
              " 13: 'runs',\n",
              " 14: 'ball',\n",
              " 15: 'with',\n",
              " 16: 'or',\n",
              " 17: 'has',\n",
              " 18: 'it',\n",
              " 19: 'sport',\n",
              " 20: 'team',\n",
              " 21: 'known',\n",
              " 22: 't20',\n",
              " 23: 'that',\n",
              " 24: 'england',\n",
              " 25: 'global',\n",
              " 26: 'cultural',\n",
              " 27: 'between',\n",
              " 28: 'players',\n",
              " 29: 'each',\n",
              " 30: 'can',\n",
              " 31: 'be',\n",
              " 32: 'day',\n",
              " 33: 'odis',\n",
              " 34: 'matches',\n",
              " 35: 'by',\n",
              " 36: 'hitting',\n",
              " 37: 'india',\n",
              " 38: 'west',\n",
              " 39: 'indies',\n",
              " 40: 'as',\n",
              " 41: 'have',\n",
              " 42: 'millions',\n",
              " 43: 'fans',\n",
              " 44: 'evolved',\n",
              " 45: 'into',\n",
              " 46: 'rich',\n",
              " 47: 'diverse',\n",
              " 48: 'play',\n",
              " 49: 'structure',\n",
              " 50: 'significance',\n",
              " 51: 'two',\n",
              " 52: 'formats',\n",
              " 53: 'most',\n",
              " 54: 'being',\n",
              " 55: 'format',\n",
              " 56: 'overs',\n",
              " 57: 'than',\n",
              " 58: 'batting',\n",
              " 59: 'around',\n",
              " 60: 'who',\n",
              " 61: 'fielding',\n",
              " 62: 'from',\n",
              " 63: 'scoring',\n",
              " 64: 'batsmen',\n",
              " 65: 'if',\n",
              " 66: 'before',\n",
              " 67: 'boundary',\n",
              " 68: 'countries',\n",
              " 69: 'australia',\n",
              " 70: 'people',\n",
              " 71: 'league',\n",
              " 72: 'these',\n",
              " 73: 'unique',\n",
              " 74: 'decision',\n",
              " 75: 'like',\n",
              " 76: 'brief',\n",
              " 77: 'overview',\n",
              " 78: 'bat',\n",
              " 79: 'captivated',\n",
              " 80: 'worldwide',\n",
              " 81: 'originating',\n",
              " 82: 'during',\n",
              " 83: '16th',\n",
              " 84: 'century',\n",
              " 85: 'history',\n",
              " 86: 'forms',\n",
              " 87: 'here’s',\n",
              " 88: 'an',\n",
              " 89: 'exploration',\n",
              " 90: 'typically',\n",
              " 91: 'played',\n",
              " 92: 'teams',\n",
              " 93: 'eleven',\n",
              " 94: 'divided',\n",
              " 95: 'several',\n",
              " 96: 'popular',\n",
              " 97: '1',\n",
              " 98: 'longest',\n",
              " 99: 'lasting',\n",
              " 100: 'up',\n",
              " 101: 'five',\n",
              " 102: 'days',\n",
              " 103: 'where',\n",
              " 104: 'plays',\n",
              " 105: 'innings',\n",
              " 106: 'strategic',\n",
              " 107: 'depth',\n",
              " 108: 'endurance',\n",
              " 109: '2',\n",
              " 110: 'one',\n",
              " 111: 'internationals',\n",
              " 112: 'limited',\n",
              " 113: '50',\n",
              " 114: 'per',\n",
              " 115: 'side',\n",
              " 116: 'are',\n",
              " 117: 'faster',\n",
              " 118: 'paced',\n",
              " 119: 'usually',\n",
              " 120: 'completed',\n",
              " 121: 'single',\n",
              " 122: '3',\n",
              " 123: 'twenty20',\n",
              " 124: 'shortest',\n",
              " 125: 'playing',\n",
              " 126: '20',\n",
              " 127: 'explosive',\n",
              " 128: 'action',\n",
              " 129: 'significantly',\n",
              " 130: 'boosted',\n",
              " 131: \"sport's\",\n",
              " 132: 'popularity',\n",
              " 133: 'basic',\n",
              " 134: 'rules',\n",
              " 135: 'bowling',\n",
              " 136: 'revolves',\n",
              " 137: 'interaction',\n",
              " 138: 'bowler',\n",
              " 139: 'delivers',\n",
              " 140: 'batsman',\n",
              " 141: 'attempts',\n",
              " 142: 'score',\n",
              " 143: 'aims',\n",
              " 144: 'prevent',\n",
              " 145: 'dismiss',\n",
              " 146: 'scored',\n",
              " 147: 'running',\n",
              " 148: 'wickets',\n",
              " 149: 'boundaries',\n",
              " 150: 'four',\n",
              " 151: 'hits',\n",
              " 152: 'ground',\n",
              " 153: 'reaching',\n",
              " 154: 'six',\n",
              " 155: 'crosses',\n",
              " 156: 'on',\n",
              " 157: 'full',\n",
              " 158: 'dismissals',\n",
              " 159: 'dismissed',\n",
              " 160: 'various',\n",
              " 161: 'ways',\n",
              " 162: 'including',\n",
              " 163: 'bowled',\n",
              " 164: 'caught',\n",
              " 165: 'run',\n",
              " 166: 'out',\n",
              " 167: 'leg',\n",
              " 168: 'wicket',\n",
              " 169: 'lbw',\n",
              " 170: 'more',\n",
              " 171: 'just',\n",
              " 172: 'phenomenon',\n",
              " 173: 'many',\n",
              " 174: 'particularly',\n",
              " 175: 'pakistan',\n",
              " 176: 'south',\n",
              " 177: 'africa',\n",
              " 178: 'unites',\n",
              " 179: 'across',\n",
              " 180: 'backgrounds',\n",
              " 181: 'often',\n",
              " 182: 'serves',\n",
              " 183: 'platform',\n",
              " 184: 'social',\n",
              " 185: 'political',\n",
              " 186: 'expression',\n",
              " 187: 'almost',\n",
              " 188: 'religion',\n",
              " 189: 'passionate',\n",
              " 190: 'thriving',\n",
              " 191: 'domestic',\n",
              " 192: 'indian',\n",
              " 193: 'premier',\n",
              " 194: 'ipl',\n",
              " 195: 'attracts',\n",
              " 196: 'top',\n",
              " 197: 'world',\n",
              " 198: 'historic',\n",
              " 199: 'rivalry',\n",
              " 200: 'ashes',\n",
              " 201: 'series',\n",
              " 202: 'dates',\n",
              " 203: 'back',\n",
              " 204: '1882',\n",
              " 205: 'producing',\n",
              " 206: 'some',\n",
              " 207: 'exciting',\n",
              " 208: 'charismatic',\n",
              " 209: 'cricketing',\n",
              " 210: 'heritage',\n",
              " 211: 'style',\n",
              " 212: 'impact',\n",
              " 213: 'evolution',\n",
              " 214: 'continually',\n",
              " 215: 'innovations',\n",
              " 216: 'such',\n",
              " 217: 'introduction',\n",
              " 218: 'night',\n",
              " 219: 'use',\n",
              " 220: 'technology',\n",
              " 221: 'making',\n",
              " 222: 'review',\n",
              " 223: 'system',\n",
              " 224: 'drs',\n",
              " 225: 'development',\n",
              " 226: 'new',\n",
              " 227: 'changes',\n",
              " 228: 'helped',\n",
              " 229: 'adapt',\n",
              " 230: 'modern',\n",
              " 231: 'times',\n",
              " 232: 'expand',\n",
              " 233: 'reach',\n",
              " 234: 'conclusion',\n",
              " 235: \"cricket's\",\n",
              " 236: 'blend',\n",
              " 237: 'strategy',\n",
              " 238: 'skill',\n",
              " 239: 'tradition',\n",
              " 240: 'makes',\n",
              " 241: 'enduring',\n",
              " 242: 'ability',\n",
              " 243: 'bring',\n",
              " 244: 'together',\n",
              " 245: 'create',\n",
              " 246: 'unforgettable',\n",
              " 247: 'moments',\n",
              " 248: 'continues',\n",
              " 249: 'fuel',\n",
              " 250: 'appeal',\n",
              " 251: 'whether',\n",
              " 252: \"it's\",\n",
              " 253: 'patience',\n",
              " 254: 'tactics',\n",
              " 255: 'balance',\n",
              " 256: 'excitement',\n",
              " 257: 'offers',\n",
              " 258: 'something',\n",
              " 259: 'every',\n",
              " 260: 'sports',\n",
              " 261: 'enthusiast'}"
            ]
          },
          "metadata": {},
          "execution_count": 19
        }
      ]
    },
    {
      "cell_type": "code",
      "source": [
        "# To get the sentences sequencially display with the indexes\n",
        "input_sequences = []\n",
        "for sentence in text.split('\\n'):\n",
        "  # print(sentence)\n",
        "  token_list = tokenizer.texts_to_sequences([sentence])[0]\n",
        "  # print(token_list)\n",
        "  for i in range(1, len(token_list)):\n",
        "    n_gram_sequence = token_list[:i+1]\n",
        "    input_sequences.append(n_gram_sequence)"
      ],
      "metadata": {
        "collapsed": true,
        "id": "ZxxuYt3xfufQ"
      },
      "execution_count": null,
      "outputs": []
    },
    {
      "cell_type": "code",
      "source": [
        "input_sequences[:5]\n",
        "# Look at the pattern one after next index"
      ],
      "metadata": {
        "colab": {
          "base_uri": "https://localhost:8080/"
        },
        "id": "AiYNKIYNgY8p",
        "outputId": "0e584da3-f92c-41f7-f569-012099513cd5"
      },
      "execution_count": null,
      "outputs": [
        {
          "output_type": "execute_result",
          "data": {
            "text/plain": [
              "[[5, 3], [5, 3, 76], [5, 3, 76, 77], [5, 7], [5, 7, 3]]"
            ]
          },
          "metadata": {},
          "execution_count": 25
        }
      ]
    },
    {
      "cell_type": "code",
      "source": [
        "# get the meximun length of the input_sequences\n",
        "max_sequence_len = max([len(x) for x in input_sequences])"
      ],
      "metadata": {
        "id": "02UgyXK1iD8g"
      },
      "execution_count": null,
      "outputs": []
    },
    {
      "cell_type": "code",
      "source": [
        "from tensorflow.keras.preprocessing.sequence import pad_sequences\n",
        "input_sequences = np.array(pad_sequences(input_sequences, maxlen=max_sequence_len, padding='pre'))"
      ],
      "metadata": {
        "id": "3qtMGvZ3xq2W"
      },
      "execution_count": null,
      "outputs": []
    },
    {
      "cell_type": "code",
      "source": [
        "input_sequences[1]"
      ],
      "metadata": {
        "colab": {
          "base_uri": "https://localhost:8080/"
        },
        "id": "eivKV91CyLUe",
        "outputId": "7cac7449-508b-4406-ede4-b9c02e25622a"
      },
      "execution_count": null,
      "outputs": [
        {
          "output_type": "execute_result",
          "data": {
            "text/plain": [
              "array([ 0,  0,  0,  0,  0,  0,  0,  0,  0,  0,  0,  0,  0,  0,  0,  0,  0,\n",
              "        0,  0,  0,  0,  0,  0,  0,  0,  0,  0,  0,  0,  0,  0,  0,  0,  0,\n",
              "        0,  0,  0,  0,  0,  0,  0,  0,  0,  0,  0,  0,  0,  0,  0,  0,  0,\n",
              "        0,  5,  3, 76], dtype=int32)"
            ]
          },
          "metadata": {},
          "execution_count": 31
        }
      ]
    },
    {
      "cell_type": "code",
      "source": [
        "x = input_sequences[:, :-1]\n",
        "y = input_sequences[:, -1]"
      ],
      "metadata": {
        "id": "XxZ8km8dySCT"
      },
      "execution_count": null,
      "outputs": []
    },
    {
      "cell_type": "code",
      "source": [
        "# x varible index check in 2nd element\n",
        "x[1]"
      ],
      "metadata": {
        "colab": {
          "base_uri": "https://localhost:8080/"
        },
        "id": "bnX2dE5VzE_a",
        "outputId": "b384f4d4-50af-4f11-a923-f468748d52bd"
      },
      "execution_count": null,
      "outputs": [
        {
          "output_type": "execute_result",
          "data": {
            "text/plain": [
              "array([0, 0, 0, 0, 0, 0, 0, 0, 0, 0, 0, 0, 0, 0, 0, 0, 0, 0, 0, 0, 0, 0,\n",
              "       0, 0, 0, 0, 0, 0, 0, 0, 0, 0, 0, 0, 0, 0, 0, 0, 0, 0, 0, 0, 0, 0,\n",
              "       0, 0, 0, 0, 0, 0, 0, 0, 5, 3], dtype=int32)"
            ]
          },
          "metadata": {},
          "execution_count": 37
        }
      ]
    },
    {
      "cell_type": "code",
      "source": [
        "y[1]"
      ],
      "metadata": {
        "collapsed": true,
        "colab": {
          "base_uri": "https://localhost:8080/"
        },
        "id": "o-H5InCFzQeD",
        "outputId": "41eaab16-44d3-4691-e8d6-1dd697395c2a"
      },
      "execution_count": null,
      "outputs": [
        {
          "output_type": "execute_result",
          "data": {
            "text/plain": [
              "76"
            ]
          },
          "metadata": {},
          "execution_count": 39
        }
      ]
    },
    {
      "cell_type": "code",
      "source": [
        "# Do the one-hot encoding for the y variable\n",
        "num_classes = len(tokenizer.word_index) + 1\n",
        "num_classes"
      ],
      "metadata": {
        "colab": {
          "base_uri": "https://localhost:8080/"
        },
        "id": "AGLBCfeOze0m",
        "outputId": "a5c7e902-1eef-4029-9934-8a1872f2cd93"
      },
      "execution_count": null,
      "outputs": [
        {
          "output_type": "execute_result",
          "data": {
            "text/plain": [
              "262"
            ]
          },
          "metadata": {},
          "execution_count": 40
        }
      ]
    },
    {
      "cell_type": "code",
      "source": [
        "y = tf.keras.utils.to_categorical(y, num_classes=num_classes)"
      ],
      "metadata": {
        "id": "0vIrDbH60eKL"
      },
      "execution_count": null,
      "outputs": []
    },
    {
      "cell_type": "code",
      "source": [
        "y[1]"
      ],
      "metadata": {
        "colab": {
          "base_uri": "https://localhost:8080/"
        },
        "id": "6Zmtwkqd0g70",
        "outputId": "45bb459b-b0fa-4b94-cd36-8fab1afdf1f4"
      },
      "execution_count": null,
      "outputs": [
        {
          "output_type": "execute_result",
          "data": {
            "text/plain": [
              "array([0., 0., 0., 0., 0., 0., 0., 0., 0., 0., 0., 0., 0., 0., 0., 0., 0.,\n",
              "       0., 0., 0., 0., 0., 0., 0., 0., 0., 0., 0., 0., 0., 0., 0., 0., 0.,\n",
              "       0., 0., 0., 0., 0., 0., 0., 0., 0., 0., 0., 0., 0., 0., 0., 0., 0.,\n",
              "       0., 0., 0., 0., 0., 0., 0., 0., 0., 0., 0., 0., 0., 0., 0., 0., 0.,\n",
              "       0., 0., 0., 0., 0., 0., 0., 0., 1., 0., 0., 0., 0., 0., 0., 0., 0.,\n",
              "       0., 0., 0., 0., 0., 0., 0., 0., 0., 0., 0., 0., 0., 0., 0., 0., 0.,\n",
              "       0., 0., 0., 0., 0., 0., 0., 0., 0., 0., 0., 0., 0., 0., 0., 0., 0.,\n",
              "       0., 0., 0., 0., 0., 0., 0., 0., 0., 0., 0., 0., 0., 0., 0., 0., 0.,\n",
              "       0., 0., 0., 0., 0., 0., 0., 0., 0., 0., 0., 0., 0., 0., 0., 0., 0.,\n",
              "       0., 0., 0., 0., 0., 0., 0., 0., 0., 0., 0., 0., 0., 0., 0., 0., 0.,\n",
              "       0., 0., 0., 0., 0., 0., 0., 0., 0., 0., 0., 0., 0., 0., 0., 0., 0.,\n",
              "       0., 0., 0., 0., 0., 0., 0., 0., 0., 0., 0., 0., 0., 0., 0., 0., 0.,\n",
              "       0., 0., 0., 0., 0., 0., 0., 0., 0., 0., 0., 0., 0., 0., 0., 0., 0.,\n",
              "       0., 0., 0., 0., 0., 0., 0., 0., 0., 0., 0., 0., 0., 0., 0., 0., 0.,\n",
              "       0., 0., 0., 0., 0., 0., 0., 0., 0., 0., 0., 0., 0., 0., 0., 0., 0.,\n",
              "       0., 0., 0., 0., 0., 0., 0.])"
            ]
          },
          "metadata": {},
          "execution_count": 42
        }
      ]
    },
    {
      "cell_type": "markdown",
      "source": [
        "Train the model"
      ],
      "metadata": {
        "id": "Aw4oiENN0m5V"
      }
    },
    {
      "cell_type": "code",
      "source": [
        "model = tf.keras.Sequential()\n",
        "model.add(tf.keras.layers.Embedding(num_classes, 80, input_length=max_sequence_len-1))\n",
        "model.add(tf.keras.layers.LSTM(100))\n",
        "model.add(tf.keras.layers.Dense(num_classes, activation='softmax'))"
      ],
      "metadata": {
        "id": "qfRMXp4z0rPt"
      },
      "execution_count": null,
      "outputs": []
    },
    {
      "cell_type": "code",
      "source": [
        "model.summary()"
      ],
      "metadata": {
        "colab": {
          "base_uri": "https://localhost:8080/",
          "height": 254
        },
        "id": "pxki_pVU1_v1",
        "outputId": "3f9b6862-70e5-402a-c39a-e41b0d4e991a"
      },
      "execution_count": null,
      "outputs": [
        {
          "output_type": "display_data",
          "data": {
            "text/plain": [
              "\u001b[1mModel: \"sequential_5\"\u001b[0m\n"
            ],
            "text/html": [
              "<pre style=\"white-space:pre;overflow-x:auto;line-height:normal;font-family:Menlo,'DejaVu Sans Mono',consolas,'Courier New',monospace\"><span style=\"font-weight: bold\">Model: \"sequential_5\"</span>\n",
              "</pre>\n"
            ]
          },
          "metadata": {}
        },
        {
          "output_type": "display_data",
          "data": {
            "text/plain": [
              "┏━━━━━━━━━━━━━━━━━━━━━━━━━━━━━━━━━━━━━━┳━━━━━━━━━━━━━━━━━━━━━━━━━━━━━┳━━━━━━━━━━━━━━━━━┓\n",
              "┃\u001b[1m \u001b[0m\u001b[1mLayer (type)                        \u001b[0m\u001b[1m \u001b[0m┃\u001b[1m \u001b[0m\u001b[1mOutput Shape               \u001b[0m\u001b[1m \u001b[0m┃\u001b[1m \u001b[0m\u001b[1m        Param #\u001b[0m\u001b[1m \u001b[0m┃\n",
              "┡━━━━━━━━━━━━━━━━━━━━━━━━━━━━━━━━━━━━━━╇━━━━━━━━━━━━━━━━━━━━━━━━━━━━━╇━━━━━━━━━━━━━━━━━┩\n",
              "│ embedding_5 (\u001b[38;5;33mEmbedding\u001b[0m)              │ ?                           │     \u001b[38;5;34m0\u001b[0m (unbuilt) │\n",
              "├──────────────────────────────────────┼─────────────────────────────┼─────────────────┤\n",
              "│ lstm_3 (\u001b[38;5;33mLSTM\u001b[0m)                        │ ?                           │     \u001b[38;5;34m0\u001b[0m (unbuilt) │\n",
              "├──────────────────────────────────────┼─────────────────────────────┼─────────────────┤\n",
              "│ dense_3 (\u001b[38;5;33mDense\u001b[0m)                      │ ?                           │     \u001b[38;5;34m0\u001b[0m (unbuilt) │\n",
              "└──────────────────────────────────────┴─────────────────────────────┴─────────────────┘\n"
            ],
            "text/html": [
              "<pre style=\"white-space:pre;overflow-x:auto;line-height:normal;font-family:Menlo,'DejaVu Sans Mono',consolas,'Courier New',monospace\">┏━━━━━━━━━━━━━━━━━━━━━━━━━━━━━━━━━━━━━━┳━━━━━━━━━━━━━━━━━━━━━━━━━━━━━┳━━━━━━━━━━━━━━━━━┓\n",
              "┃<span style=\"font-weight: bold\"> Layer (type)                         </span>┃<span style=\"font-weight: bold\"> Output Shape                </span>┃<span style=\"font-weight: bold\">         Param # </span>┃\n",
              "┡━━━━━━━━━━━━━━━━━━━━━━━━━━━━━━━━━━━━━━╇━━━━━━━━━━━━━━━━━━━━━━━━━━━━━╇━━━━━━━━━━━━━━━━━┩\n",
              "│ embedding_5 (<span style=\"color: #0087ff; text-decoration-color: #0087ff\">Embedding</span>)              │ ?                           │     <span style=\"color: #00af00; text-decoration-color: #00af00\">0</span> (unbuilt) │\n",
              "├──────────────────────────────────────┼─────────────────────────────┼─────────────────┤\n",
              "│ lstm_3 (<span style=\"color: #0087ff; text-decoration-color: #0087ff\">LSTM</span>)                        │ ?                           │     <span style=\"color: #00af00; text-decoration-color: #00af00\">0</span> (unbuilt) │\n",
              "├──────────────────────────────────────┼─────────────────────────────┼─────────────────┤\n",
              "│ dense_3 (<span style=\"color: #0087ff; text-decoration-color: #0087ff\">Dense</span>)                      │ ?                           │     <span style=\"color: #00af00; text-decoration-color: #00af00\">0</span> (unbuilt) │\n",
              "└──────────────────────────────────────┴─────────────────────────────┴─────────────────┘\n",
              "</pre>\n"
            ]
          },
          "metadata": {}
        },
        {
          "output_type": "display_data",
          "data": {
            "text/plain": [
              "\u001b[1m Total params: \u001b[0m\u001b[38;5;34m0\u001b[0m (0.00 B)\n"
            ],
            "text/html": [
              "<pre style=\"white-space:pre;overflow-x:auto;line-height:normal;font-family:Menlo,'DejaVu Sans Mono',consolas,'Courier New',monospace\"><span style=\"font-weight: bold\"> Total params: </span><span style=\"color: #00af00; text-decoration-color: #00af00\">0</span> (0.00 B)\n",
              "</pre>\n"
            ]
          },
          "metadata": {}
        },
        {
          "output_type": "display_data",
          "data": {
            "text/plain": [
              "\u001b[1m Trainable params: \u001b[0m\u001b[38;5;34m0\u001b[0m (0.00 B)\n"
            ],
            "text/html": [
              "<pre style=\"white-space:pre;overflow-x:auto;line-height:normal;font-family:Menlo,'DejaVu Sans Mono',consolas,'Courier New',monospace\"><span style=\"font-weight: bold\"> Trainable params: </span><span style=\"color: #00af00; text-decoration-color: #00af00\">0</span> (0.00 B)\n",
              "</pre>\n"
            ]
          },
          "metadata": {}
        },
        {
          "output_type": "display_data",
          "data": {
            "text/plain": [
              "\u001b[1m Non-trainable params: \u001b[0m\u001b[38;5;34m0\u001b[0m (0.00 B)\n"
            ],
            "text/html": [
              "<pre style=\"white-space:pre;overflow-x:auto;line-height:normal;font-family:Menlo,'DejaVu Sans Mono',consolas,'Courier New',monospace\"><span style=\"font-weight: bold\"> Non-trainable params: </span><span style=\"color: #00af00; text-decoration-color: #00af00\">0</span> (0.00 B)\n",
              "</pre>\n"
            ]
          },
          "metadata": {}
        }
      ]
    },
    {
      "cell_type": "code",
      "source": [
        "# compile the model\n",
        "model.compile(loss='categorical_crossentropy', optimizer='adam', metrics=['accuracy'])"
      ],
      "metadata": {
        "id": "oLUri_WS2uKm"
      },
      "execution_count": null,
      "outputs": []
    },
    {
      "cell_type": "code",
      "source": [
        "# train the model\n",
        "model.fit(x, y, epochs=100)\n",
        "# meaning of epochs is, train the model 100 times"
      ],
      "metadata": {
        "colab": {
          "base_uri": "https://localhost:8080/"
        },
        "id": "oXKj_Kx52zYV",
        "outputId": "d0708029-cc57-4346-eb11-f7c5998cd0bd"
      },
      "execution_count": null,
      "outputs": [
        {
          "output_type": "stream",
          "name": "stdout",
          "text": [
            "Epoch 1/100\n",
            "\u001b[1m16/16\u001b[0m \u001b[32m━━━━━━━━━━━━━━━━━━━━\u001b[0m\u001b[37m\u001b[0m \u001b[1m4s\u001b[0m 43ms/step - accuracy: 0.0536 - loss: 5.5642\n",
            "Epoch 2/100\n",
            "\u001b[1m16/16\u001b[0m \u001b[32m━━━━━━━━━━━━━━━━━━━━\u001b[0m\u001b[37m\u001b[0m \u001b[1m1s\u001b[0m 45ms/step - accuracy: 0.0930 - loss: 5.3687\n",
            "Epoch 3/100\n",
            "\u001b[1m16/16\u001b[0m \u001b[32m━━━━━━━━━━━━━━━━━━━━\u001b[0m\u001b[37m\u001b[0m \u001b[1m2s\u001b[0m 74ms/step - accuracy: 0.0880 - loss: 5.0834\n",
            "Epoch 4/100\n",
            "\u001b[1m16/16\u001b[0m \u001b[32m━━━━━━━━━━━━━━━━━━━━\u001b[0m\u001b[37m\u001b[0m \u001b[1m1s\u001b[0m 77ms/step - accuracy: 0.0801 - loss: 5.0308\n",
            "Epoch 5/100\n",
            "\u001b[1m16/16\u001b[0m \u001b[32m━━━━━━━━━━━━━━━━━━━━\u001b[0m\u001b[37m\u001b[0m \u001b[1m1s\u001b[0m 68ms/step - accuracy: 0.0706 - loss: 5.0581\n",
            "Epoch 6/100\n",
            "\u001b[1m16/16\u001b[0m \u001b[32m━━━━━━━━━━━━━━━━━━━━\u001b[0m\u001b[37m\u001b[0m \u001b[1m1s\u001b[0m 43ms/step - accuracy: 0.0686 - loss: 5.1079\n",
            "Epoch 7/100\n",
            "\u001b[1m16/16\u001b[0m \u001b[32m━━━━━━━━━━━━━━━━━━━━\u001b[0m\u001b[37m\u001b[0m \u001b[1m1s\u001b[0m 45ms/step - accuracy: 0.0758 - loss: 4.9778\n",
            "Epoch 8/100\n",
            "\u001b[1m16/16\u001b[0m \u001b[32m━━━━━━━━━━━━━━━━━━━━\u001b[0m\u001b[37m\u001b[0m \u001b[1m1s\u001b[0m 43ms/step - accuracy: 0.0678 - loss: 4.9624\n",
            "Epoch 9/100\n",
            "\u001b[1m16/16\u001b[0m \u001b[32m━━━━━━━━━━━━━━━━━━━━\u001b[0m\u001b[37m\u001b[0m \u001b[1m1s\u001b[0m 43ms/step - accuracy: 0.0833 - loss: 4.9297\n",
            "Epoch 10/100\n",
            "\u001b[1m16/16\u001b[0m \u001b[32m━━━━━━━━━━━━━━━━━━━━\u001b[0m\u001b[37m\u001b[0m \u001b[1m1s\u001b[0m 42ms/step - accuracy: 0.0904 - loss: 4.8162\n",
            "Epoch 11/100\n",
            "\u001b[1m16/16\u001b[0m \u001b[32m━━━━━━━━━━━━━━━━━━━━\u001b[0m\u001b[37m\u001b[0m \u001b[1m1s\u001b[0m 45ms/step - accuracy: 0.0810 - loss: 4.8526\n",
            "Epoch 12/100\n",
            "\u001b[1m16/16\u001b[0m \u001b[32m━━━━━━━━━━━━━━━━━━━━\u001b[0m\u001b[37m\u001b[0m \u001b[1m1s\u001b[0m 45ms/step - accuracy: 0.0966 - loss: 4.6762\n",
            "Epoch 13/100\n",
            "\u001b[1m16/16\u001b[0m \u001b[32m━━━━━━━━━━━━━━━━━━━━\u001b[0m\u001b[37m\u001b[0m \u001b[1m1s\u001b[0m 66ms/step - accuracy: 0.0861 - loss: 4.6014\n",
            "Epoch 14/100\n",
            "\u001b[1m16/16\u001b[0m \u001b[32m━━━━━━━━━━━━━━━━━━━━\u001b[0m\u001b[37m\u001b[0m \u001b[1m1s\u001b[0m 47ms/step - accuracy: 0.1054 - loss: 4.5293\n",
            "Epoch 15/100\n",
            "\u001b[1m16/16\u001b[0m \u001b[32m━━━━━━━━━━━━━━━━━━━━\u001b[0m\u001b[37m\u001b[0m \u001b[1m1s\u001b[0m 52ms/step - accuracy: 0.1138 - loss: 4.3792\n",
            "Epoch 16/100\n",
            "\u001b[1m16/16\u001b[0m \u001b[32m━━━━━━━━━━━━━━━━━━━━\u001b[0m\u001b[37m\u001b[0m \u001b[1m2s\u001b[0m 76ms/step - accuracy: 0.1137 - loss: 4.2463\n",
            "Epoch 17/100\n",
            "\u001b[1m16/16\u001b[0m \u001b[32m━━━━━━━━━━━━━━━━━━━━\u001b[0m\u001b[37m\u001b[0m \u001b[1m1s\u001b[0m 92ms/step - accuracy: 0.1121 - loss: 4.1869\n",
            "Epoch 18/100\n",
            "\u001b[1m16/16\u001b[0m \u001b[32m━━━━━━━━━━━━━━━━━━━━\u001b[0m\u001b[37m\u001b[0m \u001b[1m2s\u001b[0m 53ms/step - accuracy: 0.1423 - loss: 4.0269\n",
            "Epoch 19/100\n",
            "\u001b[1m16/16\u001b[0m \u001b[32m━━━━━━━━━━━━━━━━━━━━\u001b[0m\u001b[37m\u001b[0m \u001b[1m1s\u001b[0m 51ms/step - accuracy: 0.1530 - loss: 3.9416\n",
            "Epoch 20/100\n",
            "\u001b[1m16/16\u001b[0m \u001b[32m━━━━━━━━━━━━━━━━━━━━\u001b[0m\u001b[37m\u001b[0m \u001b[1m1s\u001b[0m 49ms/step - accuracy: 0.1622 - loss: 3.7510\n",
            "Epoch 21/100\n",
            "\u001b[1m16/16\u001b[0m \u001b[32m━━━━━━━━━━━━━━━━━━━━\u001b[0m\u001b[37m\u001b[0m \u001b[1m1s\u001b[0m 52ms/step - accuracy: 0.1560 - loss: 3.7591\n",
            "Epoch 22/100\n",
            "\u001b[1m16/16\u001b[0m \u001b[32m━━━━━━━━━━━━━━━━━━━━\u001b[0m\u001b[37m\u001b[0m \u001b[1m1s\u001b[0m 54ms/step - accuracy: 0.2045 - loss: 3.5377\n",
            "Epoch 23/100\n",
            "\u001b[1m16/16\u001b[0m \u001b[32m━━━━━━━━━━━━━━━━━━━━\u001b[0m\u001b[37m\u001b[0m \u001b[1m1s\u001b[0m 48ms/step - accuracy: 0.2130 - loss: 3.4730\n",
            "Epoch 24/100\n",
            "\u001b[1m16/16\u001b[0m \u001b[32m━━━━━━━━━━━━━━━━━━━━\u001b[0m\u001b[37m\u001b[0m \u001b[1m1s\u001b[0m 82ms/step - accuracy: 0.2588 - loss: 3.2992\n",
            "Epoch 25/100\n",
            "\u001b[1m16/16\u001b[0m \u001b[32m━━━━━━━━━━━━━━━━━━━━\u001b[0m\u001b[37m\u001b[0m \u001b[1m2s\u001b[0m 66ms/step - accuracy: 0.2467 - loss: 3.2436\n",
            "Epoch 26/100\n",
            "\u001b[1m16/16\u001b[0m \u001b[32m━━━━━━━━━━━━━━━━━━━━\u001b[0m\u001b[37m\u001b[0m \u001b[1m1s\u001b[0m 80ms/step - accuracy: 0.2985 - loss: 3.0830\n",
            "Epoch 27/100\n",
            "\u001b[1m16/16\u001b[0m \u001b[32m━━━━━━━━━━━━━━━━━━━━\u001b[0m\u001b[37m\u001b[0m \u001b[1m2s\u001b[0m 44ms/step - accuracy: 0.2882 - loss: 3.0161\n",
            "Epoch 28/100\n",
            "\u001b[1m16/16\u001b[0m \u001b[32m━━━━━━━━━━━━━━━━━━━━\u001b[0m\u001b[37m\u001b[0m \u001b[1m1s\u001b[0m 45ms/step - accuracy: 0.3231 - loss: 2.9301\n",
            "Epoch 29/100\n",
            "\u001b[1m16/16\u001b[0m \u001b[32m━━━━━━━━━━━━━━━━━━━━\u001b[0m\u001b[37m\u001b[0m \u001b[1m1s\u001b[0m 45ms/step - accuracy: 0.3415 - loss: 2.8112\n",
            "Epoch 30/100\n",
            "\u001b[1m16/16\u001b[0m \u001b[32m━━━━━━━━━━━━━━━━━━━━\u001b[0m\u001b[37m\u001b[0m \u001b[1m1s\u001b[0m 46ms/step - accuracy: 0.3479 - loss: 2.7595\n",
            "Epoch 31/100\n",
            "\u001b[1m16/16\u001b[0m \u001b[32m━━━━━━━━━━━━━━━━━━━━\u001b[0m\u001b[37m\u001b[0m \u001b[1m1s\u001b[0m 46ms/step - accuracy: 0.3920 - loss: 2.6803\n",
            "Epoch 32/100\n",
            "\u001b[1m16/16\u001b[0m \u001b[32m━━━━━━━━━━━━━━━━━━━━\u001b[0m\u001b[37m\u001b[0m \u001b[1m1s\u001b[0m 43ms/step - accuracy: 0.4130 - loss: 2.6167\n",
            "Epoch 33/100\n",
            "\u001b[1m16/16\u001b[0m \u001b[32m━━━━━━━━━━━━━━━━━━━━\u001b[0m\u001b[37m\u001b[0m \u001b[1m1s\u001b[0m 47ms/step - accuracy: 0.4294 - loss: 2.5132\n",
            "Epoch 34/100\n",
            "\u001b[1m16/16\u001b[0m \u001b[32m━━━━━━━━━━━━━━━━━━━━\u001b[0m\u001b[37m\u001b[0m \u001b[1m1s\u001b[0m 44ms/step - accuracy: 0.4421 - loss: 2.3946\n",
            "Epoch 35/100\n",
            "\u001b[1m16/16\u001b[0m \u001b[32m━━━━━━━━━━━━━━━━━━━━\u001b[0m\u001b[37m\u001b[0m \u001b[1m1s\u001b[0m 47ms/step - accuracy: 0.5260 - loss: 2.3396\n",
            "Epoch 36/100\n",
            "\u001b[1m16/16\u001b[0m \u001b[32m━━━━━━━━━━━━━━━━━━━━\u001b[0m\u001b[37m\u001b[0m \u001b[1m1s\u001b[0m 46ms/step - accuracy: 0.5337 - loss: 2.2435\n",
            "Epoch 37/100\n",
            "\u001b[1m16/16\u001b[0m \u001b[32m━━━━━━━━━━━━━━━━━━━━\u001b[0m\u001b[37m\u001b[0m \u001b[1m1s\u001b[0m 72ms/step - accuracy: 0.5591 - loss: 2.1665\n",
            "Epoch 38/100\n",
            "\u001b[1m16/16\u001b[0m \u001b[32m━━━━━━━━━━━━━━━━━━━━\u001b[0m\u001b[37m\u001b[0m \u001b[1m1s\u001b[0m 85ms/step - accuracy: 0.5436 - loss: 2.1189\n",
            "Epoch 39/100\n",
            "\u001b[1m16/16\u001b[0m \u001b[32m━━━━━━━━━━━━━━━━━━━━\u001b[0m\u001b[37m\u001b[0m \u001b[1m2s\u001b[0m 44ms/step - accuracy: 0.6119 - loss: 1.9991\n",
            "Epoch 40/100\n",
            "\u001b[1m16/16\u001b[0m \u001b[32m━━━━━━━━━━━━━━━━━━━━\u001b[0m\u001b[37m\u001b[0m \u001b[1m1s\u001b[0m 45ms/step - accuracy: 0.6256 - loss: 1.9187\n",
            "Epoch 41/100\n",
            "\u001b[1m16/16\u001b[0m \u001b[32m━━━━━━━━━━━━━━━━━━━━\u001b[0m\u001b[37m\u001b[0m \u001b[1m1s\u001b[0m 43ms/step - accuracy: 0.6331 - loss: 1.8661\n",
            "Epoch 42/100\n",
            "\u001b[1m16/16\u001b[0m \u001b[32m━━━━━━━━━━━━━━━━━━━━\u001b[0m\u001b[37m\u001b[0m \u001b[1m1s\u001b[0m 45ms/step - accuracy: 0.7006 - loss: 1.7708\n",
            "Epoch 43/100\n",
            "\u001b[1m16/16\u001b[0m \u001b[32m━━━━━━━━━━━━━━━━━━━━\u001b[0m\u001b[37m\u001b[0m \u001b[1m1s\u001b[0m 46ms/step - accuracy: 0.7204 - loss: 1.6570\n",
            "Epoch 44/100\n",
            "\u001b[1m16/16\u001b[0m \u001b[32m━━━━━━━━━━━━━━━━━━━━\u001b[0m\u001b[37m\u001b[0m \u001b[1m1s\u001b[0m 43ms/step - accuracy: 0.7155 - loss: 1.6659\n",
            "Epoch 45/100\n",
            "\u001b[1m16/16\u001b[0m \u001b[32m━━━━━━━━━━━━━━━━━━━━\u001b[0m\u001b[37m\u001b[0m \u001b[1m1s\u001b[0m 43ms/step - accuracy: 0.7745 - loss: 1.5509\n",
            "Epoch 46/100\n",
            "\u001b[1m16/16\u001b[0m \u001b[32m━━━━━━━━━━━━━━━━━━━━\u001b[0m\u001b[37m\u001b[0m \u001b[1m1s\u001b[0m 46ms/step - accuracy: 0.7700 - loss: 1.5655\n",
            "Epoch 47/100\n",
            "\u001b[1m16/16\u001b[0m \u001b[32m━━━━━━━━━━━━━━━━━━━━\u001b[0m\u001b[37m\u001b[0m \u001b[1m1s\u001b[0m 44ms/step - accuracy: 0.7941 - loss: 1.4704\n",
            "Epoch 48/100\n",
            "\u001b[1m16/16\u001b[0m \u001b[32m━━━━━━━━━━━━━━━━━━━━\u001b[0m\u001b[37m\u001b[0m \u001b[1m1s\u001b[0m 45ms/step - accuracy: 0.8177 - loss: 1.4437\n",
            "Epoch 49/100\n",
            "\u001b[1m16/16\u001b[0m \u001b[32m━━━━━━━━━━━━━━━━━━━━\u001b[0m\u001b[37m\u001b[0m \u001b[1m1s\u001b[0m 84ms/step - accuracy: 0.8086 - loss: 1.4035\n",
            "Epoch 50/100\n",
            "\u001b[1m16/16\u001b[0m \u001b[32m━━━━━━━━━━━━━━━━━━━━\u001b[0m\u001b[37m\u001b[0m \u001b[1m1s\u001b[0m 80ms/step - accuracy: 0.8683 - loss: 1.3167\n",
            "Epoch 51/100\n",
            "\u001b[1m16/16\u001b[0m \u001b[32m━━━━━━━━━━━━━━━━━━━━\u001b[0m\u001b[37m\u001b[0m \u001b[1m2s\u001b[0m 46ms/step - accuracy: 0.8757 - loss: 1.2879\n",
            "Epoch 52/100\n",
            "\u001b[1m16/16\u001b[0m \u001b[32m━━━━━━━━━━━━━━━━━━━━\u001b[0m\u001b[37m\u001b[0m \u001b[1m1s\u001b[0m 45ms/step - accuracy: 0.8932 - loss: 1.2196\n",
            "Epoch 53/100\n",
            "\u001b[1m16/16\u001b[0m \u001b[32m━━━━━━━━━━━━━━━━━━━━\u001b[0m\u001b[37m\u001b[0m \u001b[1m1s\u001b[0m 44ms/step - accuracy: 0.8942 - loss: 1.2167\n",
            "Epoch 54/100\n",
            "\u001b[1m16/16\u001b[0m \u001b[32m━━━━━━━━━━━━━━━━━━━━\u001b[0m\u001b[37m\u001b[0m \u001b[1m1s\u001b[0m 48ms/step - accuracy: 0.9007 - loss: 1.1438\n",
            "Epoch 55/100\n",
            "\u001b[1m16/16\u001b[0m \u001b[32m━━━━━━━━━━━━━━━━━━━━\u001b[0m\u001b[37m\u001b[0m \u001b[1m1s\u001b[0m 45ms/step - accuracy: 0.9196 - loss: 1.0900\n",
            "Epoch 56/100\n",
            "\u001b[1m16/16\u001b[0m \u001b[32m━━━━━━━━━━━━━━━━━━━━\u001b[0m\u001b[37m\u001b[0m \u001b[1m1s\u001b[0m 45ms/step - accuracy: 0.9322 - loss: 1.0686\n",
            "Epoch 57/100\n",
            "\u001b[1m16/16\u001b[0m \u001b[32m━━━━━━━━━━━━━━━━━━━━\u001b[0m\u001b[37m\u001b[0m \u001b[1m1s\u001b[0m 49ms/step - accuracy: 0.9440 - loss: 0.9995\n",
            "Epoch 58/100\n",
            "\u001b[1m16/16\u001b[0m \u001b[32m━━━━━━━━━━━━━━━━━━━━\u001b[0m\u001b[37m\u001b[0m \u001b[1m1s\u001b[0m 47ms/step - accuracy: 0.9415 - loss: 0.9947\n",
            "Epoch 59/100\n",
            "\u001b[1m16/16\u001b[0m \u001b[32m━━━━━━━━━━━━━━━━━━━━\u001b[0m\u001b[37m\u001b[0m \u001b[1m2s\u001b[0m 75ms/step - accuracy: 0.9617 - loss: 0.9319\n",
            "Epoch 60/100\n",
            "\u001b[1m16/16\u001b[0m \u001b[32m━━━━━━━━━━━━━━━━━━━━\u001b[0m\u001b[37m\u001b[0m \u001b[1m1s\u001b[0m 78ms/step - accuracy: 0.9455 - loss: 0.9305\n",
            "Epoch 61/100\n",
            "\u001b[1m16/16\u001b[0m \u001b[32m━━━━━━━━━━━━━━━━━━━━\u001b[0m\u001b[37m\u001b[0m \u001b[1m2s\u001b[0m 47ms/step - accuracy: 0.9620 - loss: 0.8554\n",
            "Epoch 62/100\n",
            "\u001b[1m16/16\u001b[0m \u001b[32m━━━━━━━━━━━━━━━━━━━━\u001b[0m\u001b[37m\u001b[0m \u001b[1m1s\u001b[0m 47ms/step - accuracy: 0.9702 - loss: 0.8536\n",
            "Epoch 63/100\n",
            "\u001b[1m16/16\u001b[0m \u001b[32m━━━━━━━━━━━━━━━━━━━━\u001b[0m\u001b[37m\u001b[0m \u001b[1m1s\u001b[0m 46ms/step - accuracy: 0.9660 - loss: 0.8126\n",
            "Epoch 64/100\n",
            "\u001b[1m16/16\u001b[0m \u001b[32m━━━━━━━━━━━━━━━━━━━━\u001b[0m\u001b[37m\u001b[0m \u001b[1m1s\u001b[0m 45ms/step - accuracy: 0.9724 - loss: 0.7744\n",
            "Epoch 65/100\n",
            "\u001b[1m16/16\u001b[0m \u001b[32m━━━━━━━━━━━━━━━━━━━━\u001b[0m\u001b[37m\u001b[0m \u001b[1m1s\u001b[0m 45ms/step - accuracy: 0.9738 - loss: 0.7631\n",
            "Epoch 66/100\n",
            "\u001b[1m16/16\u001b[0m \u001b[32m━━━━━━━━━━━━━━━━━━━━\u001b[0m\u001b[37m\u001b[0m \u001b[1m1s\u001b[0m 57ms/step - accuracy: 0.9785 - loss: 0.7306\n",
            "Epoch 67/100\n",
            "\u001b[1m16/16\u001b[0m \u001b[32m━━━━━━━━━━━━━━━━━━━━\u001b[0m\u001b[37m\u001b[0m \u001b[1m1s\u001b[0m 44ms/step - accuracy: 0.9765 - loss: 0.6872\n",
            "Epoch 68/100\n",
            "\u001b[1m16/16\u001b[0m \u001b[32m━━━━━━━━━━━━━━━━━━━━\u001b[0m\u001b[37m\u001b[0m \u001b[1m1s\u001b[0m 44ms/step - accuracy: 0.9809 - loss: 0.6658\n",
            "Epoch 69/100\n",
            "\u001b[1m16/16\u001b[0m \u001b[32m━━━━━━━━━━━━━━━━━━━━\u001b[0m\u001b[37m\u001b[0m \u001b[1m1s\u001b[0m 46ms/step - accuracy: 0.9863 - loss: 0.6394\n",
            "Epoch 70/100\n",
            "\u001b[1m16/16\u001b[0m \u001b[32m━━━━━━━━━━━━━━━━━━━━\u001b[0m\u001b[37m\u001b[0m \u001b[1m1s\u001b[0m 59ms/step - accuracy: 0.9832 - loss: 0.6184\n",
            "Epoch 71/100\n",
            "\u001b[1m16/16\u001b[0m \u001b[32m━━━━━━━━━━━━━━━━━━━━\u001b[0m\u001b[37m\u001b[0m \u001b[1m2s\u001b[0m 90ms/step - accuracy: 0.9701 - loss: 0.5942\n",
            "Epoch 72/100\n",
            "\u001b[1m16/16\u001b[0m \u001b[32m━━━━━━━━━━━━━━━━━━━━\u001b[0m\u001b[37m\u001b[0m \u001b[1m2s\u001b[0m 104ms/step - accuracy: 0.9934 - loss: 0.5645\n",
            "Epoch 73/100\n",
            "\u001b[1m16/16\u001b[0m \u001b[32m━━━━━━━━━━━━━━━━━━━━\u001b[0m\u001b[37m\u001b[0m \u001b[1m2s\u001b[0m 106ms/step - accuracy: 0.9869 - loss: 0.5349\n",
            "Epoch 74/100\n",
            "\u001b[1m16/16\u001b[0m \u001b[32m━━━━━━━━━━━━━━━━━━━━\u001b[0m\u001b[37m\u001b[0m \u001b[1m2s\u001b[0m 56ms/step - accuracy: 0.9922 - loss: 0.5257\n",
            "Epoch 75/100\n",
            "\u001b[1m16/16\u001b[0m \u001b[32m━━━━━━━━━━━━━━━━━━━━\u001b[0m\u001b[37m\u001b[0m \u001b[1m1s\u001b[0m 59ms/step - accuracy: 0.9925 - loss: 0.5116\n",
            "Epoch 76/100\n",
            "\u001b[1m16/16\u001b[0m \u001b[32m━━━━━━━━━━━━━━━━━━━━\u001b[0m\u001b[37m\u001b[0m \u001b[1m1s\u001b[0m 47ms/step - accuracy: 0.9795 - loss: 0.5055\n",
            "Epoch 77/100\n",
            "\u001b[1m16/16\u001b[0m \u001b[32m━━━━━━━━━━━━━━━━━━━━\u001b[0m\u001b[37m\u001b[0m \u001b[1m1s\u001b[0m 44ms/step - accuracy: 0.9893 - loss: 0.4770\n",
            "Epoch 78/100\n",
            "\u001b[1m16/16\u001b[0m \u001b[32m━━━━━━━━━━━━━━━━━━━━\u001b[0m\u001b[37m\u001b[0m \u001b[1m1s\u001b[0m 46ms/step - accuracy: 0.9930 - loss: 0.4589\n",
            "Epoch 79/100\n",
            "\u001b[1m16/16\u001b[0m \u001b[32m━━━━━━━━━━━━━━━━━━━━\u001b[0m\u001b[37m\u001b[0m \u001b[1m1s\u001b[0m 45ms/step - accuracy: 0.9871 - loss: 0.4552\n",
            "Epoch 80/100\n",
            "\u001b[1m16/16\u001b[0m \u001b[32m━━━━━━━━━━━━━━━━━━━━\u001b[0m\u001b[37m\u001b[0m \u001b[1m1s\u001b[0m 44ms/step - accuracy: 0.9957 - loss: 0.4120\n",
            "Epoch 81/100\n",
            "\u001b[1m16/16\u001b[0m \u001b[32m━━━━━━━━━━━━━━━━━━━━\u001b[0m\u001b[37m\u001b[0m \u001b[1m1s\u001b[0m 44ms/step - accuracy: 0.9924 - loss: 0.4042\n",
            "Epoch 82/100\n",
            "\u001b[1m16/16\u001b[0m \u001b[32m━━━━━━━━━━━━━━━━━━━━\u001b[0m\u001b[37m\u001b[0m \u001b[1m1s\u001b[0m 45ms/step - accuracy: 0.9877 - loss: 0.3976\n",
            "Epoch 83/100\n",
            "\u001b[1m16/16\u001b[0m \u001b[32m━━━━━━━━━━━━━━━━━━━━\u001b[0m\u001b[37m\u001b[0m \u001b[1m2s\u001b[0m 79ms/step - accuracy: 0.9922 - loss: 0.3735\n",
            "Epoch 84/100\n",
            "\u001b[1m16/16\u001b[0m \u001b[32m━━━━━━━━━━━━━━━━━━━━\u001b[0m\u001b[37m\u001b[0m \u001b[1m2s\u001b[0m 44ms/step - accuracy: 0.9909 - loss: 0.3774\n",
            "Epoch 85/100\n",
            "\u001b[1m16/16\u001b[0m \u001b[32m━━━━━━━━━━━━━━━━━━━━\u001b[0m\u001b[37m\u001b[0m \u001b[1m1s\u001b[0m 45ms/step - accuracy: 0.9897 - loss: 0.3740\n",
            "Epoch 86/100\n",
            "\u001b[1m16/16\u001b[0m \u001b[32m━━━━━━━━━━━━━━━━━━━━\u001b[0m\u001b[37m\u001b[0m \u001b[1m1s\u001b[0m 43ms/step - accuracy: 0.9927 - loss: 0.3501\n",
            "Epoch 87/100\n",
            "\u001b[1m16/16\u001b[0m \u001b[32m━━━━━━━━━━━━━━━━━━━━\u001b[0m\u001b[37m\u001b[0m \u001b[1m1s\u001b[0m 46ms/step - accuracy: 0.9877 - loss: 0.3416\n",
            "Epoch 88/100\n",
            "\u001b[1m16/16\u001b[0m \u001b[32m━━━━━━━━━━━━━━━━━━━━\u001b[0m\u001b[37m\u001b[0m \u001b[1m1s\u001b[0m 45ms/step - accuracy: 0.9938 - loss: 0.3210\n",
            "Epoch 89/100\n",
            "\u001b[1m16/16\u001b[0m \u001b[32m━━━━━━━━━━━━━━━━━━━━\u001b[0m\u001b[37m\u001b[0m \u001b[1m1s\u001b[0m 45ms/step - accuracy: 0.9937 - loss: 0.3129\n",
            "Epoch 90/100\n",
            "\u001b[1m16/16\u001b[0m \u001b[32m━━━━━━━━━━━━━━━━━━━━\u001b[0m\u001b[37m\u001b[0m \u001b[1m2s\u001b[0m 117ms/step - accuracy: 0.9865 - loss: 0.3211\n",
            "Epoch 91/100\n",
            "\u001b[1m16/16\u001b[0m \u001b[32m━━━━━━━━━━━━━━━━━━━━\u001b[0m\u001b[37m\u001b[0m \u001b[1m2s\u001b[0m 84ms/step - accuracy: 0.9896 - loss: 0.2993\n",
            "Epoch 92/100\n",
            "\u001b[1m16/16\u001b[0m \u001b[32m━━━━━━━━━━━━━━━━━━━━\u001b[0m\u001b[37m\u001b[0m \u001b[1m2s\u001b[0m 97ms/step - accuracy: 0.9928 - loss: 0.2785\n",
            "Epoch 93/100\n",
            "\u001b[1m16/16\u001b[0m \u001b[32m━━━━━━━━━━━━━━━━━━━━\u001b[0m\u001b[37m\u001b[0m \u001b[1m1s\u001b[0m 74ms/step - accuracy: 0.9918 - loss: 0.2707\n",
            "Epoch 94/100\n",
            "\u001b[1m16/16\u001b[0m \u001b[32m━━━━━━━━━━━━━━━━━━━━\u001b[0m\u001b[37m\u001b[0m \u001b[1m1s\u001b[0m 45ms/step - accuracy: 0.9854 - loss: 0.2859\n",
            "Epoch 95/100\n",
            "\u001b[1m16/16\u001b[0m \u001b[32m━━━━━━━━━━━━━━━━━━━━\u001b[0m\u001b[37m\u001b[0m \u001b[1m1s\u001b[0m 44ms/step - accuracy: 0.9919 - loss: 0.2577\n",
            "Epoch 96/100\n",
            "\u001b[1m16/16\u001b[0m \u001b[32m━━━━━━━━━━━━━━━━━━━━\u001b[0m\u001b[37m\u001b[0m \u001b[1m2s\u001b[0m 83ms/step - accuracy: 0.9903 - loss: 0.2531\n",
            "Epoch 97/100\n",
            "\u001b[1m16/16\u001b[0m \u001b[32m━━━━━━━━━━━━━━━━━━━━\u001b[0m\u001b[37m\u001b[0m \u001b[1m1s\u001b[0m 76ms/step - accuracy: 0.9925 - loss: 0.2449\n",
            "Epoch 98/100\n",
            "\u001b[1m16/16\u001b[0m \u001b[32m━━━━━━━━━━━━━━━━━━━━\u001b[0m\u001b[37m\u001b[0m \u001b[1m1s\u001b[0m 79ms/step - accuracy: 0.9897 - loss: 0.2410\n",
            "Epoch 99/100\n",
            "\u001b[1m16/16\u001b[0m \u001b[32m━━━━━━━━━━━━━━━━━━━━\u001b[0m\u001b[37m\u001b[0m \u001b[1m1s\u001b[0m 46ms/step - accuracy: 0.9906 - loss: 0.2395\n",
            "Epoch 100/100\n",
            "\u001b[1m16/16\u001b[0m \u001b[32m━━━━━━━━━━━━━━━━━━━━\u001b[0m\u001b[37m\u001b[0m \u001b[1m2s\u001b[0m 61ms/step - accuracy: 0.9904 - loss: 0.2305\n"
          ]
        },
        {
          "output_type": "execute_result",
          "data": {
            "text/plain": [
              "<keras.src.callbacks.history.History at 0x7be640ad8ee0>"
            ]
          },
          "metadata": {},
          "execution_count": 53
        }
      ]
    },
    {
      "cell_type": "code",
      "source": [
        "input_text = \"Cricket is a popular sport with a\""
      ],
      "metadata": {
        "id": "nsA0_6iK3KU4"
      },
      "execution_count": null,
      "outputs": []
    },
    {
      "cell_type": "code",
      "source": [
        "token_list = tokenizer.texts_to_sequences([input_text])[0]\n",
        "print(token_list)"
      ],
      "metadata": {
        "colab": {
          "base_uri": "https://localhost:8080/"
        },
        "id": "SzP3Oi7f3PjX",
        "outputId": "18796e64-8377-40e7-d45d-796ee145fb6c"
      },
      "execution_count": null,
      "outputs": [
        {
          "output_type": "stream",
          "name": "stdout",
          "text": [
            "[5, 7, 3, 96, 19, 15, 3]\n"
          ]
        }
      ]
    },
    {
      "cell_type": "code",
      "source": [
        "token_list = pad_sequences([token_list], maxlen=max_sequence_len-1, padding='pre')\n",
        "print(token_list)"
      ],
      "metadata": {
        "colab": {
          "base_uri": "https://localhost:8080/"
        },
        "id": "tEoI2LRa3Xhp",
        "outputId": "e5dd7f21-7168-4aac-c9e4-53f9c9db0512"
      },
      "execution_count": null,
      "outputs": [
        {
          "output_type": "stream",
          "name": "stdout",
          "text": [
            "[[ 0  0  0  0  0  0  0  0  0  0  0  0  0  0  0  0  0  0  0  0  0  0  0  0\n",
            "   0  0  0  0  0  0  0  0  0  0  0  0  0  0  0  0  0  0  0  0  0  0  0  5\n",
            "   7  3 96 19 15  3]]\n"
          ]
        }
      ]
    },
    {
      "cell_type": "code",
      "source": [
        "#  Get the predictin word index\n",
        "predicted = np.argmax(model.predict(token_list), axis=-1)\n",
        "print(predicted)"
      ],
      "metadata": {
        "colab": {
          "base_uri": "https://localhost:8080/"
        },
        "id": "wUdHw0ld3heb",
        "outputId": "56b32e49-0f5c-414f-8f9e-6915ff2a2baa"
      },
      "execution_count": null,
      "outputs": [
        {
          "output_type": "stream",
          "name": "stdout",
          "text": [
            "\u001b[1m1/1\u001b[0m \u001b[32m━━━━━━━━━━━━━━━━━━━━\u001b[0m\u001b[37m\u001b[0m \u001b[1m0s\u001b[0m 305ms/step\n",
            "[26]\n"
          ]
        }
      ]
    },
    {
      "cell_type": "code",
      "source": [
        "# get the word of that particular index\n",
        "for word, index in tokenizer.word_index.items():\n",
        "  if index == predicted:\n",
        "    print(word)"
      ],
      "metadata": {
        "colab": {
          "base_uri": "https://localhost:8080/"
        },
        "id": "a99gO5r43w-l",
        "outputId": "0ea11f1d-020f-41ec-d032-b362a72dc86d"
      },
      "execution_count": null,
      "outputs": [
        {
          "output_type": "stream",
          "name": "stdout",
          "text": [
            "cultural\n"
          ]
        }
      ]
    },
    {
      "cell_type": "code",
      "source": [
        "# predict the next 6 word of a particular sentence\n",
        "input_text = \"Cricket is a popular sport with a\"\n",
        "for i in range(6):\n",
        "  token_list = tokenizer.texts_to_sequences([input_text])[0]\n",
        "  token_list = tf.keras.preprocessing.sequence.pad_sequences([token_list], maxlen=max_sequence_len-1, padding='pre')\n",
        "  predicted = np.argmax(model.predict(token_list), axis=-1)\n",
        "  for word, index in tokenizer.word_index.items():\n",
        "    if index == predicted:\n",
        "      input_text += \" \" + word\n",
        "      print(input_text)"
      ],
      "metadata": {
        "colab": {
          "base_uri": "https://localhost:8080/"
        },
        "id": "ggiCTsym4M3M",
        "outputId": "cb95deda-8f07-4e59-a6f8-bc643884588f"
      },
      "execution_count": null,
      "outputs": [
        {
          "output_type": "stream",
          "name": "stdout",
          "text": [
            "\u001b[1m1/1\u001b[0m \u001b[32m━━━━━━━━━━━━━━━━━━━━\u001b[0m\u001b[37m\u001b[0m \u001b[1m0s\u001b[0m 37ms/step\n",
            "Cricket is a popular sport with a cultural\n",
            "\u001b[1m1/1\u001b[0m \u001b[32m━━━━━━━━━━━━━━━━━━━━\u001b[0m\u001b[37m\u001b[0m \u001b[1m0s\u001b[0m 38ms/step\n",
            "Cricket is a popular sport with a cultural phenomenon\n",
            "\u001b[1m1/1\u001b[0m \u001b[32m━━━━━━━━━━━━━━━━━━━━\u001b[0m\u001b[37m\u001b[0m \u001b[1m0s\u001b[0m 41ms/step\n",
            "Cricket is a popular sport with a cultural phenomenon in\n",
            "\u001b[1m1/1\u001b[0m \u001b[32m━━━━━━━━━━━━━━━━━━━━\u001b[0m\u001b[37m\u001b[0m \u001b[1m0s\u001b[0m 108ms/step\n",
            "Cricket is a popular sport with a cultural phenomenon in many\n",
            "\u001b[1m1/1\u001b[0m \u001b[32m━━━━━━━━━━━━━━━━━━━━\u001b[0m\u001b[37m\u001b[0m \u001b[1m0s\u001b[0m 34ms/step\n",
            "Cricket is a popular sport with a cultural phenomenon in many countries\n",
            "\u001b[1m1/1\u001b[0m \u001b[32m━━━━━━━━━━━━━━━━━━━━\u001b[0m\u001b[37m\u001b[0m \u001b[1m0s\u001b[0m 31ms/step\n",
            "Cricket is a popular sport with a cultural phenomenon in many countries particularly\n"
          ]
        }
      ]
    }
  ]
}